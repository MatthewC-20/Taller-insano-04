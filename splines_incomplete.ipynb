{
 "cells": [
  {
   "cell_type": "code",
   "execution_count": 3,
   "metadata": {},
   "outputs": [],
   "source": [
    "import sympy as sym\n",
    "\n",
    "def cubic_spline_clamped(xs: list[float],\n",
    "                         ys: list[float],\n",
    "                         B0: float,\n",
    "                         B1: float\n",
    "                        ) -> list[sym.Expr]:\n",
    "    \"\"\"\n",
    "    Interpolación por splines cúbicos condicionados (clamped).\n",
    "    \n",
    "    Parámetros:\n",
    "    - xs, ys: listas de abscisas y ordenadas de los puntos (no tienen que estar ordenadas).\n",
    "    - B0: pendiente deseada en x0, es decir S'(x0) = B0.\n",
    "    - B1: pendiente deseada en xn, es decir S'(xn) = B1.\n",
    "    \n",
    "    Devuelve:\n",
    "    - Lista de n polinomios sympy S_j(x) que interpolan en los intervalos [x_j, x_{j+1}].\n",
    "    \"\"\"\n",
    "    # 1) Ordenar los puntos por la coordenada x\n",
    "    puntos = sorted(zip(xs, ys), key=lambda p: p[0])\n",
    "    xs = [p[0] for p in puntos]\n",
    "    ys = [p[1] for p in puntos]\n",
    "    n = len(xs) - 1\n",
    "    \n",
    "    # 2) Calcular longitudes de intervalos h_i\n",
    "    h = [xs[i+1] - xs[i] for i in range(n)]\n",
    "    \n",
    "    # 3) Construir el vector alpha con las condiciones en los extremos\n",
    "    alpha = [0.0]*(n+1)\n",
    "    # extremo izquierdo (clamped en B0):\n",
    "    alpha[0] = 3*(ys[1] - ys[0]) / h[0] - 3*B0\n",
    "    # interior:\n",
    "    for i in range(1, n):\n",
    "        alpha[i] = (3/h[i])*(ys[i+1] - ys[i]) \\\n",
    "                 - (3/h[i-1])*(ys[i] - ys[i-1])\n",
    "    # extremo derecho (clamped en B1):\n",
    "    alpha[n] = 3*B1 - 3*(ys[n] - ys[n-1]) / h[n-1]\n",
    "    \n",
    "    # 4) Thomas (descomposición tridiagonal)\n",
    "    l = [1.0]\n",
    "    mu = [0.0]\n",
    "    z = [0.0]\n",
    "    for i in range(1, n):\n",
    "        li = 2*(xs[i+1] - xs[i-1]) - h[i-1]*mu[i-1]\n",
    "        l.append(li)\n",
    "        mu.append(h[i] / li)\n",
    "        zi = (alpha[i] - h[i-1]*z[i-1]) / li\n",
    "        z.append(zi)\n",
    "    l.append(1.0)\n",
    "    z.append(0.0)\n",
    "    \n",
    "    # 5) Back-substitution para c_j\n",
    "    c = [0.0]*(n+1)\n",
    "    for j in range(n-1, -1, -1):\n",
    "        c[j] = z[j] - mu[j]*c[j+1]\n",
    "    \n",
    "    # 6) Calcular a, b, d y construir S_j(x)\n",
    "    x = sym.Symbol('x')\n",
    "    splines = []\n",
    "    for j in range(n):\n",
    "        a = ys[j]\n",
    "        b = (ys[j+1] - ys[j]) / h[j] \\\n",
    "            - (h[j]/3)*(2*c[j] + c[j+1])\n",
    "        d = (c[j+1] - c[j]) / (3*h[j])\n",
    "        # Polinomio simbólico:\n",
    "        Sj = sym.simplify(\n",
    "            a\n",
    "            + b*(x - xs[j])\n",
    "            + c[j]*(x - xs[j])**2\n",
    "            + d*(x - xs[j])**3\n",
    "        )\n",
    "        splines.append(Sj)\n",
    "    \n",
    "    return splines"
   ]
  },
  {
   "cell_type": "code",
   "execution_count": 4,
   "metadata": {},
   "outputs": [
    {
     "data": {
      "text/latex": [
       "$\\displaystyle - 1.5 x^{3} + 5.5 x + 1$"
      ],
      "text/plain": [
       "-1.5*x**3 + 5.5*x + 1"
      ]
     },
     "metadata": {},
     "output_type": "display_data"
    },
    {
     "data": {
      "text/latex": [
       "$\\displaystyle 1.5 x^{3} - 9.0 x^{2} + 14.5 x - 2.0$"
      ],
      "text/plain": [
       "1.5*x**3 - 9.0*x**2 + 14.5*x - 2.0"
      ]
     },
     "metadata": {},
     "output_type": "display_data"
    },
    {
     "name": "stdout",
     "output_type": "stream",
     "text": [
      "______\n"
     ]
    },
    {
     "data": {
      "text/latex": [
       "$\\displaystyle - 1.5 x^{3} + 5.5 x + 1$"
      ],
      "text/plain": [
       "-1.5*x**3 + 5.5*x + 1"
      ]
     },
     "metadata": {},
     "output_type": "display_data"
    },
    {
     "data": {
      "text/latex": [
       "$\\displaystyle 1.5 x^{3} - 9.0 x^{2} + 14.5 x - 2.0$"
      ],
      "text/plain": [
       "1.5*x**3 - 9.0*x**2 + 14.5*x - 2.0"
      ]
     },
     "metadata": {},
     "output_type": "display_data"
    }
   ],
   "source": [
    "xs = [0, 1, 2]\n",
    "ys = [1, 5, 3]\n",
    "\n",
    "splines = cubic_spline(xs=xs, ys=ys)\n",
    "_ = [display(s) for s in splines]\n",
    "print(\"______\")\n",
    "_ = [display(s.expand()) for s in splines]"
   ]
  },
  {
   "cell_type": "code",
   "execution_count": 5,
   "metadata": {},
   "outputs": [
    {
     "data": {
      "text/latex": [
       "$\\displaystyle 1.5 x^{3} - 0.5 x - 5$"
      ],
      "text/plain": [
       "1.5*x**3 - 0.5*x - 5"
      ]
     },
     "metadata": {},
     "output_type": "display_data"
    },
    {
     "data": {
      "text/latex": [
       "$\\displaystyle - 1.5 x^{3} + 9.0 x^{2} - 9.5 x - 2.0$"
      ],
      "text/plain": [
       "-1.5*x**3 + 9.0*x**2 - 9.5*x - 2.0"
      ]
     },
     "metadata": {},
     "output_type": "display_data"
    },
    {
     "name": "stdout",
     "output_type": "stream",
     "text": [
      "______\n"
     ]
    },
    {
     "data": {
      "text/latex": [
       "$\\displaystyle 1.5 x^{3} - 0.5 x - 5$"
      ],
      "text/plain": [
       "1.5*x**3 - 0.5*x - 5"
      ]
     },
     "metadata": {},
     "output_type": "display_data"
    },
    {
     "data": {
      "text/latex": [
       "$\\displaystyle - 1.5 x^{3} + 9.0 x^{2} - 9.5 x - 2.0$"
      ],
      "text/plain": [
       "-1.5*x**3 + 9.0*x**2 - 9.5*x - 2.0"
      ]
     },
     "metadata": {},
     "output_type": "display_data"
    }
   ],
   "source": [
    "xs = [0, 1, 2]\n",
    "ys = [-5, -4, 3]\n",
    "\n",
    "splines = cubic_spline(xs=xs, ys=ys)\n",
    "_ = [display(s) for s in splines]\n",
    "print(\"______\")\n",
    "_ = [display(s.expand()) for s in splines]"
   ]
  },
  {
   "cell_type": "code",
   "execution_count": 6,
   "metadata": {},
   "outputs": [
    {
     "data": {
      "text/latex": [
       "$\\displaystyle 1.53333333333333 x^{3} - 1.53333333333333 x + 1$"
      ],
      "text/plain": [
       "1.53333333333333*x**3 - 1.53333333333333*x + 1"
      ]
     },
     "metadata": {},
     "output_type": "display_data"
    },
    {
     "data": {
      "text/latex": [
       "$\\displaystyle - 3.66666666666667 x^{3} + 15.6 x^{2} - 17.1333333333333 x + 6.2$"
      ],
      "text/plain": [
       "-3.66666666666667*x**3 + 15.6*x**2 - 17.1333333333333*x + 6.2"
      ]
     },
     "metadata": {},
     "output_type": "display_data"
    },
    {
     "data": {
      "text/latex": [
       "$\\displaystyle 2.13333333333333 x^{3} - 19.2 x^{2} + 52.4666666666667 x - 40.2$"
      ],
      "text/plain": [
       "2.13333333333333*x**3 - 19.2*x**2 + 52.4666666666667*x - 40.2"
      ]
     },
     "metadata": {},
     "output_type": "display_data"
    },
    {
     "name": "stdout",
     "output_type": "stream",
     "text": [
      "______\n"
     ]
    },
    {
     "data": {
      "text/latex": [
       "$\\displaystyle 1.53333333333333 x^{3} - 1.53333333333333 x + 1$"
      ],
      "text/plain": [
       "1.53333333333333*x**3 - 1.53333333333333*x + 1"
      ]
     },
     "metadata": {},
     "output_type": "display_data"
    },
    {
     "data": {
      "text/latex": [
       "$\\displaystyle - 3.66666666666667 x^{3} + 15.6 x^{2} - 17.1333333333333 x + 6.2$"
      ],
      "text/plain": [
       "-3.66666666666667*x**3 + 15.6*x**2 - 17.1333333333333*x + 6.2"
      ]
     },
     "metadata": {},
     "output_type": "display_data"
    },
    {
     "data": {
      "text/latex": [
       "$\\displaystyle 2.13333333333333 x^{3} - 19.2 x^{2} + 52.4666666666667 x - 40.2$"
      ],
      "text/plain": [
       "2.13333333333333*x**3 - 19.2*x**2 + 52.4666666666667*x - 40.2"
      ]
     },
     "metadata": {},
     "output_type": "display_data"
    }
   ],
   "source": [
    "xs = [0, 1, 2,3]\n",
    "ys = [1, 1, 5,2]\n",
    "\n",
    "splines = cubic_spline(xs=xs, ys=ys)\n",
    "_ = [display(s) for s in splines]\n",
    "print(\"______\")\n",
    "_ = [display(s.expand()) for s in splines]"
   ]
  }
 ],
 "metadata": {
  "kernelspec": {
   "display_name": "Python 3",
   "language": "python",
   "name": "python3"
  },
  "language_info": {
   "codemirror_mode": {
    "name": "ipython",
    "version": 3
   },
   "file_extension": ".py",
   "mimetype": "text/x-python",
   "name": "python",
   "nbconvert_exporter": "python",
   "pygments_lexer": "ipython3",
   "version": "3.11.9"
  }
 },
 "nbformat": 4,
 "nbformat_minor": 2
}
